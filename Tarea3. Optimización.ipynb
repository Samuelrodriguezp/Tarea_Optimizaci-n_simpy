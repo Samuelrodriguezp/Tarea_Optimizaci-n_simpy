{
 "cells": [
  {
   "cell_type": "markdown",
   "metadata": {},
   "source": [
    "<img style=\"float: left; margin: 30px 15px 15px 15px;\" src=\"https://encrypted-tbn0.gstatic.com/images?q=tbn:ANd9GcTFzQj91sOlkeDFkg5HDbjtR4QJYmLXkfMNig&usqp=CAU\" width=\"400\" height=\"500\" /> \n",
    "    \n",
    "    \n",
    "### <font color='navy'> Simulación matemática. \n",
    "\n",
    "**Nombres:** Samuel Rodríguez Partida\n",
    "\n",
    "**Fecha:** 05 de septiembre del 2022.\n",
    "\n",
    "**Expediente** : ic727594.\n",
    "    \n",
    "**Profesor:** Oscar David Jaramillo Zuluaga.\n",
    "    \n",
    "**Link Github**: https://github.com/Samuelrodriguezp\n",
    "\n",
    "# Tarea 1: Clase 3"
   ]
  },
  {
   "cell_type": "markdown",
   "metadata": {},
   "source": [
    "## Enunciado de tarea (Transcibirlo)\n",
    "1. Obtener máximos y mínimos absolutos, usando `sympy`, de las funciones dadas en los intervalos dados, y graficar la función en dicho intervalo señalando los puntos máximo y mínimo.\n",
    "\n",
    "    + $f(x)=2x^3+4x^2+1$ en $[-1.5,\\,0.5]$\n",
    "    + $g(x) = 5x^3-3x+10$ en el intervalo $[-1, \\,0]$"
   ]
  },
  {
   "cell_type": "markdown",
   "metadata": {},
   "source": [
    "### Ejercicio 1: (enunciado) Transcribirlo\n",
    "1. Obtener máximos y mínimos absolutos, usando `sympy`, de las funciones dadas en los intervalos dados, y graficar la función en dicho intervalo señalando los puntos máximo y mínimo.\n",
    "\n",
    "    + $f(x)=2x^3+4x^2+1$ en $[-1.5,\\,0.5]$"
   ]
  },
  {
   "cell_type": "markdown",
   "metadata": {},
   "source": [
    "Código de solución estudiante 1"
   ]
  },
  {
   "cell_type": "code",
   "execution_count": 28,
   "metadata": {},
   "outputs": [
    {
     "data": {
      "text/latex": [
       "$\\displaystyle 2 x^{3} + 4 x^{2} + 1$"
      ],
      "text/plain": [
       "2*x**3 + 4*x**2 + 1"
      ]
     },
     "execution_count": 28,
     "metadata": {},
     "output_type": "execute_result"
    }
   ],
   "source": [
    "# Código de solución estudiante 1\n",
    "#Importaremos primeros las dos librerías necesarias para trabajar: numPy y SimPy\n",
    "import numpy as np\n",
    "import sympy as sym\n",
    "#Declaro mis variables y mi función inicial. También imprimo mi función inicial para comprobar una correcta escritura\n",
    "sym.var(\"x\",real=True)\n",
    "def f(x):\n",
    "    return 2*(x**3) + 4*(x**2) + 1\n",
    "f(x)"
   ]
  },
  {
   "cell_type": "code",
   "execution_count": 29,
   "metadata": {},
   "outputs": [
    {
     "data": {
      "text/latex": [
       "$\\displaystyle 6 x^{2} + 8 x$"
      ],
      "text/plain": [
       "6*x**2 + 8*x"
      ]
     },
     "execution_count": 29,
     "metadata": {},
     "output_type": "execute_result"
    }
   ],
   "source": [
    "#Derivo mi función\n",
    "df = sym.diff(f(x),x)\n",
    "df"
   ]
  },
  {
   "cell_type": "code",
   "execution_count": 30,
   "metadata": {},
   "outputs": [
    {
     "data": {
      "text/plain": [
       "[-4/3, 0]"
      ]
     },
     "execution_count": 30,
     "metadata": {},
     "output_type": "execute_result"
    }
   ],
   "source": [
    "#Obtengo el valor óptimo de mi función\n",
    "dfc = sym.solve(df,x)\n",
    "dfc\n"
   ]
  },
  {
   "cell_type": "code",
   "execution_count": 32,
   "metadata": {},
   "outputs": [
    {
     "data": {
      "text/plain": [
       "(3.25, 3.370370370370371, 1, 2.25)"
      ]
     },
     "execution_count": 32,
     "metadata": {},
     "output_type": "execute_result"
    }
   ],
   "source": [
    "f(-1.5), f(-4/3), f(0), f(0.5)"
   ]
  },
  {
   "cell_type": "code",
   "execution_count": 31,
   "metadata": {},
   "outputs": [
    {
     "data": {
      "text/latex": [
       "$\\displaystyle 12 x + 8$"
      ],
      "text/plain": [
       "12*x + 8"
      ]
     },
     "execution_count": 31,
     "metadata": {},
     "output_type": "execute_result"
    }
   ],
   "source": [
    "#Observo que ambos valores están dentro del rango que quiero analizar\n",
    "#Derivo por segunda vez\n",
    "ddf = sym.diff(df,x)\n",
    "ddf"
   ]
  },
  {
   "cell_type": "code",
   "execution_count": 33,
   "metadata": {},
   "outputs": [
    {
     "data": {
      "image/png": "[encoded data removed]",
      "text/plain": [
       "<Figure size 720x576 with 1 Axes>"
      ]
     },
     "metadata": {
      "needs_background": "light"
     },
     "output_type": "display_data"
    }
   ],
   "source": [
    "#Preparo el código para poder graficar\n",
    "import matplotlib.pyplot as plt\n",
    "%matplotlib inline\n",
    "\n",
    "#Hago mi código para graficar\n",
    "#Configurar tamaño de la figura\n",
    "plt.figure(figsize=(10,8))\n",
    "\n",
    "#Configurar ejes\n",
    "xnum = np.linspace(-1.5,.5,254)\n",
    "ynum = f(xnum)\n",
    "\n",
    "#Agregar los gráficos\n",
    "plt.plot(xnum,ynum,':y',lw=5,label='$y=2x^3+4x^2+1$')\n",
    "plt.plot([-4/3],[3.37],'pr',ms=18,label='Punto máximo en el intervalo')\n",
    "plt.plot([0],[1],'pg',ms=18,label='Punto mínimo en el intervalo')\n",
    "\n",
    "#Nombrar los ejes de la gráfica\n",
    "plt.xlabel('$x$',fontsize=18)\n",
    "plt.ylabel('$y$',fontsize=18)\n",
    "\n",
    "plt.grid()\n",
    "plt.legend(loc='best')\n",
    "plt.show()\n",
    "\n"
   ]
  },
  {
   "cell_type": "markdown",
   "metadata": {},
   "source": [
    "Código de solución estudiante 2"
   ]
  },
  {
   "cell_type": "code",
   "execution_count": null,
   "metadata": {},
   "outputs": [],
   "source": [
    "# Código de solución estudiante 2\n",
    ".\n",
    ".\n",
    ".\n",
    ".\n"
   ]
  },
  {
   "cell_type": "markdown",
   "metadata": {},
   "source": [
    "### Respuesta planteada en el ejercicio usando (markdown)\n",
    " La respuesta es ........."
   ]
  }
 ],
 "metadata": {
  "kernelspec": {
   "display_name": "Python 3 (ipykernel)",
   "language": "python",
   "name": "python3"
  },
  "language_info": {
   "codemirror_mode": {
    "name": "ipython",
    "version": 3
   },
   "file_extension": ".py",
   "mimetype": "text/x-python",
   "name": "python",
   "nbconvert_exporter": "python",
   "pygments_lexer": "ipython3",
   "version": "3.9.12"
  }
 },
 "nbformat": 4,
 "nbformat_minor": 2
}
