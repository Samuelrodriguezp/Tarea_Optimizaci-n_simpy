{
 "cells": [
  {
   "cell_type": "markdown",
   "metadata": {},
   "source": [
    "<img style=\"float: left; margin: 30px 15px 15px 15px;\" src=\"https://encrypted-tbn0.gstatic.com/images?q=tbn:ANd9GcTFzQj91sOlkeDFkg5HDbjtR4QJYmLXkfMNig&usqp=CAU\" width=\"400\" height=\"500\" /> \n",
    "    \n",
    "    \n",
    "### <font color='navy'> Simulación matemática. \n",
    "\n",
    "**Nombres:** Samuel Rodríguez Partida\n",
    "\n",
    "**Fecha:** 05-07 de septiembre del 2022.\n",
    "\n",
    "**Expediente** : ic727594.\n",
    "    \n",
    "**Profesor:** Oscar David Jaramillo Zuluaga.\n",
    "    \n",
    "**Link Github**: https://github.com/Samuelrodriguezp\n",
    "\n",
    "# Tarea 1: Clase 3"
   ]
  },
  {
   "cell_type": "markdown",
   "metadata": {},
   "source": [
    "## Enunciado de tarea (Transcibirlo)\n",
    "1. Obtener máximos y mínimos absolutos, usando `sympy`, de las funciones dadas en los intervalos dados, y graficar la función en dicho intervalo señalando los puntos máximo y mínimo.\n",
    "\n",
    "    + $f(x)=2x^3+4x^2+1$ en $[-1.5,\\,0.5]$\n",
    "    + $g(x) = 5x^3-3x+10$ en el intervalo $[-1, \\,0]$"
   ]
  },
  {
   "cell_type": "markdown",
   "metadata": {},
   "source": [
    "### Ejercicio 1: (enunciado) Transcribirlo\n",
    "1. Obtener máximos y mínimos absolutos, usando `sympy`, de las funciones dadas en los intervalos dados, y graficar la función en dicho intervalo señalando los puntos máximo y mínimo.\n",
    "\n",
    "    + $f(x)=2x^3+4x^2+1$ en $[-1.5,\\,0.5]$"
   ]
  },
  {
   "cell_type": "markdown",
   "metadata": {},
   "source": [
    "Código de solución estudiante 1"
   ]
  },
  {
   "cell_type": "code",
   "execution_count": 1,
   "metadata": {},
   "outputs": [
    {
     "data": {
      "text/latex": [
       "$\\displaystyle 2 x^{3} + 4 x^{2} + 1$"
      ],
      "text/plain": [
       "2*x**3 + 4*x**2 + 1"
      ]
     },
     "execution_count": 1,
     "metadata": {},
     "output_type": "execute_result"
    }
   ],
   "source": [
    "# Código de solución estudiante 1\n",
    "#Importaremos primeros las dos librerías necesarias para trabajar: numPy y SimPy\n",
    "import numpy as np\n",
    "import sympy as sym\n",
    "#Declaro mis variables y mi función inicial. También imprimo mi función inicial para comprobar una correcta escritura\n",
    "sym.var(\"x\",real=True)\n",
    "def f(x):\n",
    "    return 2*(x**3) + 4*(x**2) + 1\n",
    "f(x)"
   ]
  },
  {
   "cell_type": "code",
   "execution_count": 29,
   "metadata": {},
   "outputs": [
    {
     "data": {
      "text/latex": [
       "$\\displaystyle 6 x^{2} + 8 x$"
      ],
      "text/plain": [
       "6*x**2 + 8*x"
      ]
     },
     "execution_count": 29,
     "metadata": {},
     "output_type": "execute_result"
    }
   ],
   "source": [
    "#Derivo mi función\n",
    "df = sym.diff(f(x),x)\n",
    "df"
   ]
  },
  {
   "cell_type": "code",
   "execution_count": 30,
   "metadata": {},
   "outputs": [
    {
     "data": {
      "text/plain": [
       "[-4/3, 0]"
      ]
     },
     "execution_count": 30,
     "metadata": {},
     "output_type": "execute_result"
    }
   ],
   "source": [
    "#Obtengo el valor óptimo de mi función. f'(x)=0\n",
    "dfc = sym.solve(df,x)\n",
    "dfc\n"
   ]
  },
  {
   "cell_type": "code",
   "execution_count": 32,
   "metadata": {},
   "outputs": [
    {
     "data": {
      "text/plain": [
       "(3.25, 3.370370370370371, 1, 2.25)"
      ]
     },
     "execution_count": 32,
     "metadata": {},
     "output_type": "execute_result"
    }
   ],
   "source": [
    "f(-1.5), f(-4/3), f(0), f(0.5)"
   ]
  },
  {
   "cell_type": "code",
   "execution_count": 31,
   "metadata": {},
   "outputs": [
    {
     "data": {
      "text/latex": [
       "$\\displaystyle 12 x + 8$"
      ],
      "text/plain": [
       "12*x + 8"
      ]
     },
     "execution_count": 31,
     "metadata": {},
     "output_type": "execute_result"
    }
   ],
   "source": [
    "#Observo que ambos valores están dentro del rango que quiero analizar\n",
    "#Derivo por segunda vez\n",
    "ddf = sym.diff(df,x)\n",
    "ddf"
   ]
  },
  {
   "cell_type": "code",
   "execution_count": 16,
   "metadata": {},
   "outputs": [
    {
     "data": {
      "image/png": "[encoded data removed]",
      "text/plain": [
       "<Figure size 720x576 with 1 Axes>"
      ]
     },
     "metadata": {
      "needs_background": "light"
     },
     "output_type": "display_data"
    }
   ],
   "source": [
    "#Preparo el código para poder graficar\n",
    "import matplotlib.pyplot as plt\n",
    "%matplotlib inline\n",
    "\n",
    "#Hago mi código para graficar\n",
    "#Configurar tamaño de la figura\n",
    "plt.figure(figsize=(10,8))\n",
    "\n",
    "#Convierto mi funcipon simbólica a numérica\n",
    "fnum=sym.lambdify(x,f(x))\n",
    "# Definir coordenas x\n",
    "xnum = np.linspace(-1.5,.5,254)\n",
    "ynum = fnum(xnum)\n",
    "\n",
    "\n",
    "#Agregar los gráficos\n",
    "plt.plot(xnum,ynum,':y',lw=5,label='$y=2x^3+4x^2+1$')\n",
    "plt.plot([-4/3],[3.37],'pr',ms=18,label='Punto máximo en el intervalo')\n",
    "plt.plot([0],[1],'pg',ms=18,label='Punto mínimo en el intervalo')\n",
    "\n",
    "#Nombrar los ejes de la gráfica\n",
    "plt.xlabel('$x$',fontsize=18)\n",
    "plt.ylabel('$y$',fontsize=18)\n",
    "\n",
    "plt.grid()\n",
    "plt.legend(loc='best')\n",
    "plt.show()\n",
    "\n"
   ]
  },
  {
   "cell_type": "markdown",
   "metadata": {},
   "source": [
    "### Ejercicio 1: (enunciado) Transcribirlo\n",
    "1. Obtener máximos y mínimos absolutos, usando `sympy`, de las funciones dadas en los intervalos dados, y graficar la función en dicho intervalo señalando los puntos máximo y mínimo.\n",
    "\n",
    "    + $g(x) = 5x^3-3x+10$ en el intervalo $[-1, \\,0]$"
   ]
  },
  {
   "cell_type": "code",
   "execution_count": 2,
   "metadata": {},
   "outputs": [
    {
     "data": {
      "text/latex": [
       "$\\displaystyle 5 x^{3} - 3 x + 10$"
      ],
      "text/plain": [
       "5*x**3 - 3*x + 10"
      ]
     },
     "execution_count": 2,
     "metadata": {},
     "output_type": "execute_result"
    }
   ],
   "source": [
    "#Declaro mi variable y establezco mi función\n",
    "sym.var(\"x\",real=True)\n",
    "def g(x):\n",
    "    return 5*(x**3) - 3*x + 10\n",
    "g(x)\n"
   ]
  },
  {
   "cell_type": "code",
   "execution_count": 3,
   "metadata": {},
   "outputs": [
    {
     "data": {
      "text/latex": [
       "$\\displaystyle 15 x^{2} - 3$"
      ],
      "text/plain": [
       "15*x**2 - 3"
      ]
     },
     "execution_count": 3,
     "metadata": {},
     "output_type": "execute_result"
    }
   ],
   "source": [
    "#Derivo mi función\n",
    "dg = sym.diff(g(x),x)\n",
    "dg"
   ]
  },
  {
   "cell_type": "code",
   "execution_count": 4,
   "metadata": {},
   "outputs": [
    {
     "data": {
      "text/plain": [
       "[-sqrt(5)/5, sqrt(5)/5]"
      ]
     },
     "execution_count": 4,
     "metadata": {},
     "output_type": "execute_result"
    }
   ],
   "source": [
    "#Obtengo el valor óptimo de mi función\n",
    "dgc = sym.solve(dg,x)\n",
    "dgc"
   ]
  },
  {
   "cell_type": "code",
   "execution_count": 36,
   "metadata": {},
   "outputs": [
    {
     "data": {
      "text/plain": [
       "-0.447213595499958"
      ]
     },
     "execution_count": 36,
     "metadata": {},
     "output_type": "execute_result"
    }
   ],
   "source": [
    "#Obtuve dos valores, pero solo el primer valor está dentro de mi intervalo deseado\n",
    "#Intenté extraer el primer término de la matriz anterior pero no pude transformarlo a número así que \n",
    "#creé manualmente una variable para el valor crítico que sí entra en el rango\n",
    "gc=sym.take(dgc,1)\n",
    "gc2 = -5**(1/2)/5\n",
    "gc2"
   ]
  },
  {
   "cell_type": "code",
   "execution_count": 38,
   "metadata": {},
   "outputs": [
    {
     "data": {
      "text/latex": [
       "$\\displaystyle 30 x$"
      ],
      "text/plain": [
       "30*x"
      ]
     },
     "execution_count": 38,
     "metadata": {},
     "output_type": "execute_result"
    }
   ],
   "source": [
    "#Como mi segunda raíz está fuera del intervalo seleccionado solo tomaré la primera\n",
    "#Derivaré por segunda vez mi expresión y la evaluaré en mi punto crítico para ver si es un mínimo o máximo local\n",
    "#Aquí también intenté evaluar en mi segunda derivada el valor crítico para observar si era máximo o mínimo ...\n",
    "# ... pero se me dificultó el trabajo con los formatos\n",
    "ddg= sym.diff(dg,x)\n",
    "#dg(gc2)\n",
    "ddg\n"
   ]
  },
  {
   "cell_type": "code",
   "execution_count": 34,
   "metadata": {},
   "outputs": [
    {
     "data": {
      "text/plain": [
       "(8, 10.894427190999917, 10)"
      ]
     },
     "execution_count": 34,
     "metadata": {},
     "output_type": "execute_result"
    }
   ],
   "source": [
    "#Manualmente identifiqué que mi valor crítico evaluado en la segunda derivada da negativo por lo que será un máximo.\n",
    "#Ahora evaluaré mi punto y los límites de mi intervalo para identificar máximos y mínimos globales\n",
    "g(-1), g(gc2), g(0)"
   ]
  },
  {
   "cell_type": "code",
   "execution_count": 35,
   "metadata": {},
   "outputs": [
    {
     "data": {
      "image/png": "[encoded data removed]",
      "text/plain": [
       "<Figure size 720x576 with 1 Axes>"
      ]
     },
     "metadata": {
      "needs_background": "light"
     },
     "output_type": "display_data"
    }
   ],
   "source": [
    "#Hago mi código para graficar\n",
    "import matplotlib.pyplot as plt\n",
    "%matplotlib inline\n",
    "\n",
    "#Configurar tamaño de la figura\n",
    "plt.figure(figsize=(10,8))\n",
    "\n",
    "#Convierto mi funcipon simbólica a numérica\n",
    "fnum=sym.lambdify(x,g(x))\n",
    "# Definir coordenas x\n",
    "xnum = np.linspace(-1,0,254)\n",
    "ynum = fnum(xnum)\n",
    "\n",
    "\n",
    "#Agregar los gráficos\n",
    "plt.plot(xnum,ynum,':y',lw=5,label='$y=5x^3-3x^2+10$')\n",
    "plt.plot([-1],[8],'pb',ms=18,label='Punto mínimo en el intervalo')\n",
    "plt.plot([gc2],[g(gc2)],'db',ms=18,label='Punto máximo en el intervalo')\n",
    "\n",
    "#Nombrar los ejes de la gráfica\n",
    "plt.xlabel('$x$',fontsize=18)\n",
    "plt.ylabel('$g(x)$',fontsize=18)\n",
    "\n",
    "plt.grid()\n",
    "plt.legend(loc='best')\n",
    "plt.show()\n"
   ]
  },
  {
   "cell_type": "markdown",
   "metadata": {},
   "source": [
    "### Respuesta planteada en el ejercicio usando (markdown)\n",
    "\n",
    "Para la primera ecuación los puntos críticos son [-4/3,3.37] (Máximo) y [0,1] (Mínimo)\n",
    "\n",
    "Para la segunda ecuación los puntos críticos son [-1,8] (Mínimo) y [-0.44,10.89] (Máximo)"
   ]
  },
  {
   "cell_type": "code",
   "execution_count": null,
   "metadata": {},
   "outputs": [],
   "source": []
  }
 ],
 "metadata": {
  "kernelspec": {
   "display_name": "Python 3 (ipykernel)",
   "language": "python",
   "name": "python3"
  },
  "language_info": {
   "codemirror_mode": {
    "name": "ipython",
    "version": 3
   },
   "file_extension": ".py",
   "mimetype": "text/x-python",
   "name": "python",
   "nbconvert_exporter": "python",
   "pygments_lexer": "ipython3",
   "version": "3.9.12"
  }
 },
 "nbformat": 4,
 "nbformat_minor": 2
}
